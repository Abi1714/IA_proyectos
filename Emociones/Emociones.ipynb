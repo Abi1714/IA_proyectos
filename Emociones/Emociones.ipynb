{
 "cells": [
  {
   "cell_type": "code",
   "execution_count": 13,
   "id": "305fd1d6-78fa-4770-9261-a947e37fce66",
   "metadata": {},
   "outputs": [
    {
     "name": "stdout",
     "output_type": "stream",
     "text": [
      "['feliz', 'sorprendido', 'triste']\n"
     ]
    }
   ],
   "source": [
    "import numpy as np \n",
    "import cv2 as cv\n",
    "import os\n",
    "\n",
    "rostro = cv.CascadeClassifier('haarcascade_frontalface_alt.xml')\n",
    "\n",
    "dataSet = r'C:\\Proyectos\\IA\\Emocione\\Emociones'\n",
    "faces = os.listdir(dataSet)\n",
    "print(faces)"
   ]
  },
  {
   "cell_type": "code",
   "execution_count": null,
   "id": "d9c8c210-79ab-4fe1-adcc-f43bb7487765",
   "metadata": {},
   "outputs": [],
   "source": [
    "def escala(imx, escala):\n",
    "    width = int(imx.shape[1] * escala / 100)\n",
    "    height = int(imx.shape[0] * escala / 100)\n",
    "    size = (width, height)\n",
    "    im = cv.resize(imx, size, interpolation = cv.INTER_AREA)\n",
    "    return im"
   ]
  },
  {
   "cell_type": "code",
   "execution_count": null,
   "id": "773150d9-e360-4554-8363-4cdfecdad721",
   "metadata": {},
   "outputs": [],
   "source": [
    "cap = cv.VideoCapture(0)\n",
    "i = 0 \n",
    "while True:\n",
    "    ret, frame = cap.read()\n",
    "    gray = cv.cvtColor(frame, cv.COLOR_BGR2GRAY)\n",
    "    rostros = rostro.detectMultiScale(gray, 1.3, 5)\n",
    "    for(x, y, w, h) in rostros:\n",
    "        #frame = cv.rectangle(frame, (x,y), (x+w, y+h), (0, 255, 0), 2)\n",
    "        frame2 = frame[y:y+h, x:x+w]\n",
    "        #cv.imshow('rostros2', frame2)\n",
    "        frame2 = cv.resize(frame2, (100,100), interpolation = cv.INTER_AREA)\n",
    "        cv.imwrite('C:/Proyectos/caras/Emocione/Emociones/Feliz/SinaFeliz'+str(i)+'.png', frame2)\n",
    "                    \n",
    "    cv.imshow('rostros', frame)\n",
    "    i=i+1\n",
    "    k = cv.waitKey(1)\n",
    "    if k == 27:\n",
    "        break\n",
    "cap.release()\n",
    "cv.destroyAllWindows()"
   ]
  },
  {
   "cell_type": "code",
   "execution_count": null,
   "id": "ba2c4c69-7c72-424f-94ac-1954264332f4",
   "metadata": {},
   "outputs": [],
   "source": [
    "## LBPH"
   ]
  },
  {
   "cell_type": "code",
   "execution_count": null,
   "id": "9822a9f9-5caf-450e-b94b-72e884f61490",
   "metadata": {},
   "outputs": [],
   "source": [
    "dataSet = 'C:/Proyectos/caras/Emocione/Emociones'\n",
    "faces  = os.listdir(dataSet)\n",
    "print(faces)\n",
    "\n",
    "labels = []\n",
    "facesData = []\n",
    "label = 0 \n",
    "target_size = (100, 100)\n",
    "for face in faces:\n",
    "    facePath = dataSet+'/'+face\n",
    "    for faceName in os.listdir(facePath):\n",
    "        labels.append(label)\n",
    "        facesData.append(cv.imread(facePath+'/'+faceName,0))\n",
    "    label = label + 1\n",
    "print(np.count_nonzero(np.array(labels)==0)) \n",
    "\n",
    "LBPHFace = cv.face.LBPHFaceRecognizer_create()\n",
    "LBPHFace.train(facesData, np.array(labels))\n",
    "LBPHFace.write('emocionesLBPH.xml')"
   ]
  },
  {
   "cell_type": "code",
   "execution_count": 16,
   "id": "e56b60b6-7e13-4e43-b12f-7839f978f25b",
   "metadata": {},
   "outputs": [],
   "source": [
    "faces  = ['feliz', 'sorprendido', 'triste']\n",
    "LBPHFace = cv.face.LBPHFaceRecognizer_create()\n",
    "LBPHFace.read('emocionesLBPH.xml')\n",
    "\n",
    "cap = cv.VideoCapture(0)\n",
    "rostro = cv.CascadeClassifier(cv.data.haarcascades +'haarcascade_frontalface_alt.xml')\n",
    "while True:\n",
    "    ret, frame = cap.read()\n",
    "    if ret == False: break\n",
    "    gray = cv.cvtColor(frame, cv.COLOR_BGR2GRAY)\n",
    "    cpGray = gray.copy()\n",
    "    rostros = rostro.detectMultiScale(gray, 1.3, 3)\n",
    "    for(x, y, w, h) in rostros:\n",
    "        frame2 = cpGray[y:y+h, x:x+w]\n",
    "        frame2 = cv.resize(frame2,  (100,100), interpolation=cv.INTER_CUBIC)\n",
    "        result = LBPHFace.predict(frame2)\n",
    "        if result[1] > 93:\n",
    "            cv.putText(frame,'{}'.format(faces[result[0]]),(x,y-25),2,1.1,(0,255,0),1,cv.LINE_AA)\n",
    "            cv.rectangle(frame, (x,y),(x+w,y+h),(0,255,0),2)\n",
    "        else:\n",
    "            cv.putText(frame,'Neutral',(x,y-20),2,0.8,(0,0,255),1,cv.LINE_AA)\n",
    "            cv.rectangle(frame, (x,y),(x+w,y+h),(0,0,255),2)\n",
    "    \n",
    "    cv.imshow('frame', frame)\n",
    "    k = cv.waitKey(1)\n",
    "    if k == 27:\n",
    "        break\n",
    "cap.release()\n",
    "cv.destroyAllWindows()"
   ]
  }
 ],
 "metadata": {
  "kernelspec": {
   "display_name": "Python 3 (ipykernel)",
   "language": "python",
   "name": "python3"
  },
  "language_info": {
   "codemirror_mode": {
    "name": "ipython",
    "version": 3
   },
   "file_extension": ".py",
   "mimetype": "text/x-python",
   "name": "python",
   "nbconvert_exporter": "python",
   "pygments_lexer": "ipython3",
   "version": "3.9.13"
  }
 },
 "nbformat": 4,
 "nbformat_minor": 5
}
